{
 "cells": [
  {
   "cell_type": "markdown",
   "metadata": {},
   "source": [
    "Inspired from : https://github.com/erellaz/ISS_tracker"
   ]
  },
  {
   "cell_type": "markdown",
   "metadata": {
    "vscode": {
     "languageId": "powershell"
    }
   },
   "source": [
    "To list COM clients, run the following command in PowerShell\n",
    "\n",
    "```powershell\n",
    "Get-ChildItem HKLM:\\Software\\Classes -ErrorAction SilentlyContinue | Where-Object {\n",
    "$_.PSChildName -match '^\\w+\\.\\w+$' -and (Test-Path -Path \"$($_.PSPath)\\CLSID\")\n",
    "} | Select-Object -ExpandProperty PSChildName \n",
    "```"
   ]
  },
  {
   "cell_type": "code",
   "execution_count": 9,
   "metadata": {},
   "outputs": [],
   "source": [
    "# Test ascom driver compliance with standards\n",
    "# See erellaz.com for more information\n",
    "# 2018-07-15\n",
    "\n",
    "#_______________________________________________________________\n",
    "# Choose an Ascom Driver\n",
    "import win32com.client      #needed to load COM objects\n",
    "import ephem\n",
    "import datetime\n",
    "import time\n",
    "import sys"
   ]
  },
  {
   "cell_type": "code",
   "execution_count": 23,
   "metadata": {},
   "outputs": [
    {
     "name": "stdout",
     "output_type": "stream",
     "text": [
      "You have choosen the following driver: <COMObject EQMOD.Telescope>\n"
     ]
    }
   ],
   "source": [
    "#Use chooser\n",
    "# x = win32com.client.Dispatch(\"ASCOM.Utilities.Chooser\")\n",
    "# x.DeviceType = 'Telescope'\n",
    "# driverName=x.Choose(\"None\")\n",
    "# tel=win32com.client.Dispatch(driverName)\n",
    "\n",
    "#OR use directly one of those\n",
    "# tel = win32com.client.Dispatch(\"EQMOD_SIM.Telescope\")\n",
    "tel = win32com.client.Dispatch(\"EQMOD.Telescope\")\n",
    "\n",
    "print(\"You have choosen the following driver:\",tel)"
   ]
  },
  {
   "cell_type": "code",
   "execution_count": 24,
   "metadata": {},
   "outputs": [
    {
     "name": "stdout",
     "output_type": "stream",
     "text": [
      "\tConnected to telescope now\n"
     ]
    }
   ],
   "source": [
    "#_______________________________________________________________\n",
    "# Connect to the telescope\n",
    "if tel.Connected:\n",
    "    print(\"\t->Telescope was already connected\")\n",
    "else:\n",
    "    tel.Connected = True\n",
    "    if tel.Connected:\n",
    "        print(\"\tConnected to telescope now\")\n",
    "    else:\n",
    "        print(\"\tUnable to connect to telescope, expect exception\")"
   ]
  },
  {
   "cell_type": "code",
   "execution_count": 54,
   "metadata": {},
   "outputs": [
    {
     "name": "stdout",
     "output_type": "stream",
     "text": [
      "Querying telescope:\n",
      "Can move axis RA Dec Rotator? True True False\n",
      "Axis rates count: 1\n",
      "Axis rates 0-RA Max: 3.3424593333333332\n",
      "Axis rates 0-RA Min: 0.0\n",
      "Axis rates 1-DEC Max: 3.3424593333333332\n",
      "Axis rates 1-DEC Min: 0.0\n"
     ]
    }
   ],
   "source": [
    "#_______________________________________________________________\n",
    "# Querying telescope\n",
    "# tel.Tracking = True\n",
    "print(\"Querying telescope:\")\n",
    "print(\"Can move axis RA Dec Rotator?\", tel.CanMoveAxis(0)[0], tel.CanMoveAxis(1)[0], tel.CanMoveAxis(2)[0])\n",
    "print(\"Axis rates count:\",tel.AxisRates(0)[0].count)\n",
    "print(\"Axis rates 0-RA Max:\",tel.AxisRates(0)[0].Item(1).Maximum)\n",
    "print(\"Axis rates 0-RA Min:\",tel.AxisRates(0)[0].Item(1).Minimum)\n",
    "print(\"Axis rates 1-DEC Max:\",tel.AxisRates(1)[0].Item(1).Maximum)\n",
    "print(\"Axis rates 1-DEC Min:\",tel.AxisRates(1)[0].Item(1).Minimum)"
   ]
  },
  {
   "cell_type": "code",
   "execution_count": 5,
   "metadata": {},
   "outputs": [
    {
     "name": "stdout",
     "output_type": "stream",
     "text": [
      "UTC Time from telescope: 2024-10-16 18:17:20+00:00\n",
      "Latitude: 46.51858333333333\n",
      "Longitude: 6.5666111111111105\n",
      "Elevation: 100.0\n"
     ]
    }
   ],
   "source": [
    "#_______________________________________________________________\n",
    "# Reading telescope parameters through ASCOM\n",
    "\n",
    "print(\"UTC Time from telescope:\",tel.UTCDate)\n",
    "#print(\"Sideral Time from telescope:\",tel.SiderealTime)\n",
    "print(\"Latitude:\",tel.SiteLatitude)\n",
    "print(\"Longitude:\",tel.SiteLongitude)\n",
    "print(\"Elevation:\",tel.SiteElevation)\n",
    "\n",
    "observer = ephem.Observer()\n",
    "observer.long = str(tel.SiteLongitude)\n",
    "observer.lat = str(tel.SiteLatitude)\n",
    "observer.elevation = tel.SiteElevation\n",
    "observer.date = datetime.datetime.now(datetime.timezone.utc)"
   ]
  },
  {
   "cell_type": "code",
   "execution_count": 8,
   "metadata": {},
   "outputs": [
    {
     "name": "stdout",
     "output_type": "stream",
     "text": [
      "Slewing to initial position: 20.0 20.0\n",
      "Moving about axis 0-RA at 2 degree per second:\n",
      "2024-10-12 14:56:52.206912 RA: 20.000036145775773 Dec: 19.99998670212766\n",
      "Moving about axis 1-DEC at 3 degree per second:\n",
      "2024-10-12 14:56:54.491951 RA: 19.952753560842908 Dec: 19.99998670212766\n",
      "2024-10-12 14:56:56.650135 RA: 19.895674073970824 Dec: 20.72126329787234\n",
      "2024-10-12 14:56:58.808391 RA: 19.896275159751845 Dec: 22.313816489361702\n",
      "2024-10-12 14:57:01.028365 RA: 19.896893236291604 Dec: 23.966369680851063\n",
      "2024-10-12 14:57:03.249615 RA: 19.897512148413742 Dec: 25.701582446808512\n",
      "2024-10-12 14:57:05.470682 RA: 19.898130781950055 Dec: 27.436795212765958\n",
      "2024-10-12 14:57:07.627892 RA: 19.898731589145243 Dec: 29.140731382978725\n",
      "2024-10-12 14:57:09.784744 RA: 19.899332396340434 Dec: 30.703922872340424\n",
      "2024-10-12 14:57:11.941794 RA: 19.89993320336052 Dec: 32.296156914893615\n",
      "2024-10-12 14:57:14.099518 RA: 19.900534010555702 Dec: 33.9174335106383\n"
     ]
    },
    {
     "data": {
      "text/plain": [
       "(1, 0.0)"
      ]
     },
     "execution_count": 8,
     "metadata": {},
     "output_type": "execute_result"
    }
   ],
   "source": [
    "#_______________________________________________________________\n",
    "#Testing\n",
    "RA0=float(20)\n",
    "DEC0=float(20)\n",
    "print(\"Slewing to initial position:\", RA0, DEC0)\n",
    "tel.SlewToCoordinates(RA0,DEC0) \n",
    "\n",
    "print(\"Moving about axis 0-RA at 2 degree per second:\")        \n",
    "tel.MoveAxis(0, 0.0)   #degree per second\n",
    "tel.MoveAxis(1, 0.0)  #degree per second\n",
    "for i in range(1):\n",
    "     tel.MoveAxis(0, 2)   #degree per second     \n",
    "     print(datetime.datetime.now(),\"RA:\",tel.RightAscension,\"Dec:\",tel.Declination)\n",
    "     sys.stdout.flush()     \n",
    "     time.sleep(1)\n",
    "\n",
    "print(\"Moving about axis 1-DEC at 3 degree per second:\")         \n",
    "tel.MoveAxis(0, 0.0)   #degree per second\n",
    "tel.MoveAxis(1, 0.0)  #degree per second\n",
    "for i in range(10):\n",
    "     tel.MoveAxis(1, 3)   #degree per second     \n",
    "     print(datetime.datetime.now(),\"RA:\",tel.RightAscension,\"Dec:\",tel.Declination) \n",
    "     sys.stdout.flush()     \n",
    "     time.sleep(1)\n",
    "     \n",
    "tel.MoveAxis(0, 0.0)   #degree per second\n",
    "tel.MoveAxis(1, 0.0)  #degree per second"
   ]
  },
  {
   "cell_type": "code",
   "execution_count": 12,
   "metadata": {},
   "outputs": [],
   "source": [
    "import numpy as np\n",
    "import matplotlib.pyplot as plt"
   ]
  },
  {
   "cell_type": "code",
   "execution_count": 82,
   "metadata": {},
   "outputs": [
    {
     "data": {
      "text/plain": [
       "(1, 0.0)"
      ]
     },
     "execution_count": 82,
     "metadata": {},
     "output_type": "execute_result"
    }
   ],
   "source": [
    "ra, dec = [], []\n",
    "sampling = 0.01\n",
    "total_time = 10\n",
    "cmd = np.linspace(0, -3.0, int(total_time/0.1))\n",
    "for i in np.arange(0,total_time,sampling):\n",
    "    if i%0.1 == 0:\n",
    "        tel.MoveAxis(0, cmd[int(i/0.1)])\n",
    "    ra.append(tel.RightAscension)\n",
    "    dec.append(tel.Declination)\n",
    "    time.sleep(sampling)\n",
    "tel.MoveAxis(0,0)\n",
    "tel.MoveAxis(1,0)"
   ]
  },
  {
   "cell_type": "code",
   "execution_count": 83,
   "metadata": {},
   "outputs": [
    {
     "data": {
      "image/png": "[encoded data removed]",
      "text/plain": [
       "<Figure size 600x500 with 2 Axes>"
      ]
     },
     "metadata": {},
     "output_type": "display_data"
    }
   ],
   "source": [
    "fig, ax = plt.subplots()\n",
    "\n",
    "ax.plot(ra, 'r-', label='RA')\n",
    "ax.set_ylabel('RA [h]', color='r')\n",
    "ax.tick_params('y', colors='r')\n",
    "ax2 = ax.twinx()\n",
    "ax2.plot(dec, 'b-', label='DEC')\n",
    "ax2.set_ylabel('DEC [°]', color='b')\n",
    "ax2.tick_params('y', colors='b')\n",
    "plt.show()"
   ]
  },
  {
   "cell_type": "code",
   "execution_count": 84,
   "metadata": {},
   "outputs": [],
   "source": [
    "tel.Connected = False"
   ]
  }
 ],
 "metadata": {
  "kernelspec": {
   "display_name": "base",
   "language": "python",
   "name": "python3"
  },
  "language_info": {
   "codemirror_mode": {
    "name": "ipython",
    "version": 3
   },
   "file_extension": ".py",
   "mimetype": "text/x-python",
   "name": "python",
   "nbconvert_exporter": "python",
   "pygments_lexer": "ipython3",
   "version": "3.11.5"
  }
 },
 "nbformat": 4,
 "nbformat_minor": 2
}
